{
  "nbformat": 4,
  "nbformat_minor": 0,
  "metadata": {
    "colab": {
      "name": "「「keras_CNN_Cifar10.ipynb」的副本」的副本",
      "provenance": [],
      "include_colab_link": true
    },
    "kernelspec": {
      "name": "python3",
      "display_name": "Python 3"
    },
    "language_info": {
      "name": "python"
    },
    "accelerator": "GPU"
  },
  "cells": [
    {
      "cell_type": "markdown",
      "metadata": {
        "id": "view-in-github",
        "colab_type": "text"
      },
      "source": [
        "<a href=\"https://colab.research.google.com/github/shhuangmust/AI/blob/110-2/5.keras_CNN_Cifar10.ipynb\" target=\"_parent\"><img src=\"https://colab.research.google.com/assets/colab-badge.svg\" alt=\"Open In Colab\"/></a>"
      ]
    },
    {
      "cell_type": "code",
      "source": [
        "from tensorflow import keras\n",
        "from keras.models import Sequential\n",
        "from keras.layers import Dense, Conv2D, MaxPooling2D, Flatten\n",
        "model=Sequential()\n",
        "model.add(Conv2D(filters=64, kernel_size=(5, 5), input_shape=(32, 32, 3), activation='relu'))\n",
        "model.add(Conv2D(filters=64, kernel_size=(5, 5), activation='relu'))\n",
        "model.add(MaxPooling2D(pool_size=2))\n",
        "model.add(Conv2D(filters=128, kernel_size=(5, 5), activation='relu'))\n",
        "model.add(Conv2D(filters=128, kernel_size=(5, 5), activation='relu'))\n",
        "model.add(MaxPooling2D(pool_size=2))\n",
        "model.add(Flatten())\n",
        "model.add(Dense(10, activation='softmax'))\n",
        "model.summary()\n",
        "model.compile(optimizer='rmsprop', loss='categorical_crossentropy', metrics=['accuracy'])"
      ],
      "metadata": {
        "colab": {
          "base_uri": "https://localhost:8080/"
        },
        "id": "LQ_HZ-tK8L-C",
        "outputId": "d581b598-3be6-4ce5-aaba-1e514815c78c"
      },
      "execution_count": null,
      "outputs": [
        {
          "output_type": "stream",
          "name": "stdout",
          "text": [
            "Model: \"sequential\"\n",
            "_________________________________________________________________\n",
            " Layer (type)                Output Shape              Param #   \n",
            "=================================================================\n",
            " conv2d (Conv2D)             (None, 28, 28, 64)        4864      \n",
            "                                                                 \n",
            " conv2d_1 (Conv2D)           (None, 24, 24, 64)        102464    \n",
            "                                                                 \n",
            " max_pooling2d (MaxPooling2D  (None, 12, 12, 64)       0         \n",
            " )                                                               \n",
            "                                                                 \n",
            " conv2d_2 (Conv2D)           (None, 8, 8, 128)         204928    \n",
            "                                                                 \n",
            " conv2d_3 (Conv2D)           (None, 4, 4, 128)         409728    \n",
            "                                                                 \n",
            " max_pooling2d_1 (MaxPooling  (None, 2, 2, 128)        0         \n",
            " 2D)                                                             \n",
            "                                                                 \n",
            " flatten (Flatten)           (None, 512)               0         \n",
            "                                                                 \n",
            " dense (Dense)               (None, 10)                5130      \n",
            "                                                                 \n",
            "=================================================================\n",
            "Total params: 727,114\n",
            "Trainable params: 727,114\n",
            "Non-trainable params: 0\n",
            "_________________________________________________________________\n"
          ]
        }
      ]
    },
    {
      "cell_type": "code",
      "source": [
        "cifar10=keras.datasets.cifar10\n",
        "(train_data, train_label), (test_data, test_label) = cifar10.load_data()\n",
        "train_label_original=train_label\n",
        "train_label = keras.utils.to_categorical(train_label)\n",
        "test_label = keras.utils.to_categorical(test_label)"
      ],
      "metadata": {
        "id": "4eM5EOSr4DLB"
      },
      "execution_count": null,
      "outputs": []
    },
    {
      "cell_type": "code",
      "source": [
        "import matplotlib.pyplot as plt\n",
        "category=['airplane','automobile','bird','cat','deer','dog','frog','horse','ship','truck']\n",
        "plt.imshow(train_data[0])\n",
        "plt.title(category[int(train_label_original[0])])\n",
        "plt.show()\n",
        "print(train_label_original[0])"
      ],
      "metadata": {
        "colab": {
          "base_uri": "https://localhost:8080/",
          "height": 299
        },
        "id": "4j8cPTbDahQr",
        "outputId": "c3c86957-0c58-4a59-b514-002a930a5e4a"
      },
      "execution_count": null,
      "outputs": [
        {
          "output_type": "display_data",
          "data": {
            "text/plain": [
              "<Figure size 432x288 with 1 Axes>"
            ],
            "image/png": "[encoded data removed]"
          },
          "metadata": {
            "needs_background": "light"
          }
        },
        {
          "output_type": "stream",
          "name": "stdout",
          "text": [
            "[6]\n"
          ]
        }
      ]
    },
    {
      "cell_type": "code",
      "source": [
        "train_history=model.fit(train_data,train_label,epochs=30,batch_size=512)\n"
      ],
      "metadata": {
        "id": "UFCQb8bgy3nU",
        "colab": {
          "base_uri": "https://localhost:8080/"
        },
        "outputId": "601dadba-aae9-4513-ed2e-466f479fd5f5"
      },
      "execution_count": null,
      "outputs": [
        {
          "output_type": "stream",
          "name": "stdout",
          "text": [
            "Epoch 1/30\n",
            "98/98 [==============================] - 12s 54ms/step - loss: 21.2404 - accuracy: 0.1729\n",
            "Epoch 2/30\n",
            "98/98 [==============================] - 4s 44ms/step - loss: 2.3775 - accuracy: 0.2428\n",
            "Epoch 3/30\n",
            "98/98 [==============================] - 4s 45ms/step - loss: 2.1899 - accuracy: 0.2945\n",
            "Epoch 4/30\n",
            "98/98 [==============================] - 4s 45ms/step - loss: 1.8240 - accuracy: 0.3722\n",
            "Epoch 5/30\n",
            "98/98 [==============================] - 4s 45ms/step - loss: 1.7623 - accuracy: 0.3973\n",
            "Epoch 6/30\n",
            "98/98 [==============================] - 4s 45ms/step - loss: 1.5814 - accuracy: 0.4564\n",
            "Epoch 7/30\n",
            "98/98 [==============================] - 4s 45ms/step - loss: 1.5443 - accuracy: 0.4749\n",
            "Epoch 8/30\n",
            "98/98 [==============================] - 4s 45ms/step - loss: 1.3791 - accuracy: 0.5262\n",
            "Epoch 9/30\n",
            "98/98 [==============================] - 4s 45ms/step - loss: 1.2276 - accuracy: 0.5749\n",
            "Epoch 10/30\n",
            "98/98 [==============================] - 4s 46ms/step - loss: 1.1114 - accuracy: 0.6184\n",
            "Epoch 11/30\n",
            "98/98 [==============================] - 4s 46ms/step - loss: 1.0243 - accuracy: 0.6495\n",
            "Epoch 12/30\n",
            "98/98 [==============================] - 4s 46ms/step - loss: 0.9061 - accuracy: 0.6900\n",
            "Epoch 13/30\n",
            "98/98 [==============================] - 4s 46ms/step - loss: 0.8181 - accuracy: 0.7207\n",
            "Epoch 14/30\n",
            "98/98 [==============================] - 4s 46ms/step - loss: 0.7295 - accuracy: 0.7532\n",
            "Epoch 15/30\n",
            "98/98 [==============================] - 5s 47ms/step - loss: 0.6243 - accuracy: 0.7862\n",
            "Epoch 16/30\n",
            "98/98 [==============================] - 5s 47ms/step - loss: 0.5658 - accuracy: 0.8075\n",
            "Epoch 17/30\n",
            "98/98 [==============================] - 5s 46ms/step - loss: 0.4800 - accuracy: 0.8389\n",
            "Epoch 18/30\n",
            "98/98 [==============================] - 5s 46ms/step - loss: 0.4346 - accuracy: 0.8538\n",
            "Epoch 19/30\n",
            "98/98 [==============================] - 5s 46ms/step - loss: 0.3832 - accuracy: 0.8728\n",
            "Epoch 20/30\n",
            "98/98 [==============================] - 5s 47ms/step - loss: 0.3410 - accuracy: 0.8880\n",
            "Epoch 21/30\n",
            "98/98 [==============================] - 5s 47ms/step - loss: 0.3249 - accuracy: 0.8950\n",
            "Epoch 22/30\n",
            "98/98 [==============================] - 5s 47ms/step - loss: 0.2992 - accuracy: 0.9045\n",
            "Epoch 23/30\n",
            "98/98 [==============================] - 5s 47ms/step - loss: 0.2786 - accuracy: 0.9122\n",
            "Epoch 24/30\n",
            "98/98 [==============================] - 5s 47ms/step - loss: 0.2654 - accuracy: 0.9196\n",
            "Epoch 25/30\n",
            "98/98 [==============================] - 5s 47ms/step - loss: 0.2814 - accuracy: 0.9168\n",
            "Epoch 26/30\n",
            "98/98 [==============================] - 5s 47ms/step - loss: 0.2353 - accuracy: 0.9277\n",
            "Epoch 27/30\n",
            "98/98 [==============================] - 5s 47ms/step - loss: 0.2170 - accuracy: 0.9337\n",
            "Epoch 28/30\n",
            "98/98 [==============================] - 5s 47ms/step - loss: 0.2348 - accuracy: 0.9324\n",
            "Epoch 29/30\n",
            "98/98 [==============================] - 5s 47ms/step - loss: 0.2117 - accuracy: 0.9384\n",
            "Epoch 30/30\n",
            "98/98 [==============================] - 5s 47ms/step - loss: 0.2224 - accuracy: 0.9370\n"
          ]
        }
      ]
    },
    {
      "cell_type": "code",
      "source": [
        "score=model.evaluate(test_data, test_label)\n",
        "print(score[1])"
      ],
      "metadata": {
        "id": "SC2VW7yl87F-",
        "colab": {
          "base_uri": "https://localhost:8080/"
        },
        "outputId": "6f51bba4-6792-47d4-fce4-1bfd9b07fa78"
      },
      "execution_count": null,
      "outputs": [
        {
          "output_type": "stream",
          "name": "stdout",
          "text": [
            "313/313 [==============================] - 1s 4ms/step - loss: 3.4559 - accuracy: 0.5923\n",
            "0.5922999978065491\n"
          ]
        }
      ]
    },
    {
      "cell_type": "code",
      "source": [
        "#繪製正確性與損失歷史圖\n",
        "import matplotlib.pyplot as plt\n",
        "import numpy as np\n",
        "\n",
        "def show_train_history(train_history, train):\n",
        "    plt.plot(train_history.history[train])\n",
        "    plt.title('Train History')\n",
        "    plt.ylabel(train)\n",
        "    plt.xlabel('Epoch')\n",
        "    plt.legend(['train'], loc='center right')\n",
        "    plt.show()\n",
        "\n",
        "show_train_history(train_history, 'accuracy')\n",
        "show_train_history(train_history, 'loss')"
      ],
      "metadata": {
        "colab": {
          "base_uri": "https://localhost:8080/",
          "height": 573
        },
        "id": "YycOQ_auS_1s",
        "outputId": "f43c63d4-121e-4dba-add5-4134b65c1713"
      },
      "execution_count": null,
      "outputs": [
        {
          "output_type": "display_data",
          "data": {
            "text/plain": [
              "<Figure size 432x288 with 1 Axes>"
            ],
            "image/png": "[encoded data removed]"
          },
          "metadata": {
            "needs_background": "light"
          }
        },
        {
          "output_type": "display_data",
          "data": {
            "text/plain": [
              "<Figure size 432x288 with 1 Axes>"
            ],
            "image/png": "[encoded data removed]"
          },
          "metadata": {
            "needs_background": "light"
          }
        }
      ]
    }
  ]
}